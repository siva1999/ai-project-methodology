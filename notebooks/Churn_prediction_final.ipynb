{
 "cells": [
  {
   "cell_type": "markdown",
   "metadata": {},
   "source": [
    "## Model Building\n"
   ]
  },
  {
   "cell_type": "code",
   "execution_count": 4,
   "metadata": {},
   "outputs": [],
   "source": [
    "import sys\n",
    "sys.path.append('..')"
   ]
  },
  {
   "cell_type": "code",
   "execution_count": 5,
   "metadata": {},
   "outputs": [
    {
     "name": "stdout",
     "output_type": "stream",
     "text": [
      "{'rmse_train': 0.146974369752419}\n"
     ]
    }
   ],
   "source": [
    "import pandas as pd\n",
    "from Churn_predict.model_training import build_model\n",
    "\n",
    "\n",
    "training_data_df = pd.read_csv('../data/E Commerce Dataset.csv')\n",
    "model_performance_dict = build_model(training_data_df)\n",
    "print(model_performance_dict)"
   ]
  },
  {
   "cell_type": "markdown",
   "metadata": {},
   "source": [
    "## Model Inference"
   ]
  },
  {
   "cell_type": "code",
   "execution_count": 6,
   "metadata": {},
   "outputs": [
    {
     "name": "stdout",
     "output_type": "stream",
     "text": [
      "[0.69 0.1  0.07 ... 0.01 0.05 0.66]\n"
     ]
    }
   ],
   "source": [
    "\n",
    "from Churn_predict.inference import make_predictions\n",
    "from Churn_predict import selected_features\n",
    "\n",
    "user_data_df = pd.read_csv('../data/test.csv')\n",
    "user_data_selected = user_data_df[selected_features]\n",
    "predictions = make_predictions(user_data_selected)\n",
    "print(predictions)"
   ]
  }
 ],
 "metadata": {
  "kernelspec": {
   "display_name": "Python 3",
   "language": "python",
   "name": "python3"
  },
  "language_info": {
   "codemirror_mode": {
    "name": "ipython",
    "version": 3
   },
   "file_extension": ".py",
   "mimetype": "text/x-python",
   "name": "python",
   "nbconvert_exporter": "python",
   "pygments_lexer": "ipython3",
   "version": "3.11.9"
  }
 },
 "nbformat": 4,
 "nbformat_minor": 2
}
